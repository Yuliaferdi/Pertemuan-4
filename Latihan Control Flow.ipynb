{
 "cells": [
  {
   "cell_type": "markdown",
   "id": "a82a24e2",
   "metadata": {},
   "source": [
    "Yuia Dwi Ferdiani\n",
    "---\n",
    "200601110105\n",
    "---\n",
    "**Latihan** ***Control Flow***"
   ]
  },
  {
   "cell_type": "markdown",
   "id": "39d3b727",
   "metadata": {},
   "source": [
    "1. Buatlah program untuk menginputkan dua buah bilangan bulat, kemudian mencetak salah satu bilangan yang nilainya terbesar!"
   ]
  },
  {
   "cell_type": "code",
   "execution_count": 1,
   "id": "1f72ac40",
   "metadata": {},
   "outputs": [],
   "source": [
    "def maks(a,b):\n",
    "    if a>b:\n",
    "        return a\n",
    "    else:\n",
    "        return b"
   ]
  },
  {
   "cell_type": "code",
   "execution_count": 2,
   "id": "ef467f66",
   "metadata": {},
   "outputs": [
    {
     "data": {
      "text/plain": [
       "10"
      ]
     },
     "execution_count": 2,
     "metadata": {},
     "output_type": "execute_result"
    }
   ],
   "source": [
    "maks(10,5)"
   ]
  },
  {
   "cell_type": "code",
   "execution_count": 3,
   "id": "b8d4ba15",
   "metadata": {},
   "outputs": [
    {
     "data": {
      "text/plain": [
       "10"
      ]
     },
     "execution_count": 3,
     "metadata": {},
     "output_type": "execute_result"
    }
   ],
   "source": [
    "maks(5,10)"
   ]
  },
  {
   "cell_type": "markdown",
   "id": "8eac0133",
   "metadata": {},
   "source": [
    "2. Pada akhir semester seorang dosen menghitung nilai akhir dari mahasiswa yang terdiri dari nilai uas, uts, kuis, dan tugas. Nilai akhir didapatkan dari 40% nilai uas, 30% nilai uts, 10% nilai kuis, dan 20% nilai tugas. Jika nilai akhir dari mahasiswa di bawah 65 maka mahasiswa tersebut akan mendapatkan remidi. Buatlah program untuk membantu mengetahui mahasiswa yang mendapatkan remidi berdasarkan nilai akhir yang didapatkannya!"
   ]
  },
  {
   "cell_type": "code",
   "execution_count": 4,
   "id": "6277918d",
   "metadata": {},
   "outputs": [
    {
     "name": "stdout",
     "output_type": "stream",
     "text": [
      "UAS: 85\n",
      "UTS: 90\n",
      "Kuis: 75\n",
      "Tugas: 90\n",
      "=========================\n",
      "Nilai_UAS =  34.0\n",
      "Nilai_UTS 27.0\n",
      "Nilai_Kuis 7.5\n",
      "Nilai_Tugas 18.0\n",
      "=========================\n",
      "Nilai_Akhir =  86.5\n",
      "Anda Tidak Remidi! SELAMAT!\n"
     ]
    }
   ],
   "source": [
    "UAS = int(input('UAS: '))\n",
    "UTS = int(input('UTS: '))\n",
    "Kuis = int(input('Kuis: '))\n",
    "Tugas = int(input('Tugas: '))\n",
    "\n",
    "print('=' * 25)\n",
    "\n",
    "Nilai_UAS = UAS * 0.4\n",
    "print('Nilai_UAS = ', Nilai_UAS)\n",
    "Nilai_UTS = UTS * 0.3\n",
    "print('Nilai_UTS' ,Nilai_UTS)\n",
    "Nilai_Kuis = Kuis * 0.1\n",
    "print('Nilai_Kuis' ,Nilai_Kuis)\n",
    "Nilai_Tugas = Tugas * 0.2\n",
    "print('Nilai_Tugas' ,Nilai_Tugas)\n",
    "\n",
    "print('=' * 25)\n",
    "\n",
    "Nilai_Akhir = Nilai_UAS + Nilai_UTS + Nilai_Kuis + Nilai_Tugas\n",
    "print('Nilai_Akhir = ', Nilai_Akhir)\n",
    "\n",
    "if Nilai_Akhir < 65:\n",
    "  print('Anda Mendapat Remidi! SEMANGAT!')\n",
    "else:\n",
    "  print('Anda Tidak Remidi! SELAMAT!')"
   ]
  },
  {
   "attachments": {
    "ss.png": {
     "image/png": "[encoded data removed]"
    }
   },
   "cell_type": "markdown",
   "id": "aac8c914",
   "metadata": {},
   "source": [
    "3. Buatlah program kalkulator sederhana menggunakan Python. User akan memasukkan dua buah bilangan riil dan satu buah operator aritmatika (+, -, *, atau /), kemudian program akan mengoperasikan dua bilangan tersebut dengan operator yang sesuai. Contoh tampilan program:![ss.png](attachment:ss.png)"
   ]
  },
  {
   "cell_type": "code",
   "execution_count": 5,
   "id": "1327bad8",
   "metadata": {},
   "outputs": [
    {
     "name": "stdout",
     "output_type": "stream",
     "text": [
      "Operasi Matematika\n",
      "Penjumlahan [+]\n",
      "Pengurangan [-]\n",
      "Perkalian [*]\n",
      "Pembagian [/]\n",
      "=========================\n",
      "Masukkan bilangan pertama: 10\n",
      "Pilih operasi (+,-,*,/): +\n",
      "Masukkan bilangan kedua: 90\n",
      "Hasil operasi dari 10 + 90 = 100\n"
     ]
    }
   ],
   "source": [
    "print('Operasi Matematika')\n",
    "print('Penjumlahan [+]')\n",
    "print('Pengurangan [-]')\n",
    "print('Perkalian [*]')\n",
    "print('Pembagian [/]')\n",
    "print('=' * 25)\n",
    "\n",
    "bilangan_1 = eval(input('Masukkan bilangan pertama: '))\n",
    "operasi = input('Pilih operasi (+,-,*,/): ')\n",
    "bilangan_2 = eval(input('Masukkan bilangan kedua: '))\n",
    "\n",
    "if operasi == '+':\n",
    "    hasil = bilangan_1 + bilangan_2\n",
    "    print(f'Hasil operasi dari {bilangan_1} + {bilangan_2} = {hasil}')\n",
    "elif operasi == '-':\n",
    "    hasil = bilangan_1 - bilangan_2\n",
    "    print(f'Hasil operasi dari {bilangan_1} - {bilangan_2} = {hasil}')\n",
    "elif operasi == '*':\n",
    "    hasil = bilangan_1 * bilangan_2\n",
    "    print(f'Hasil operasi dari {bilangan_1} * {bilangan_2} = {hasil}')\n",
    "elif operasi == '/':\n",
    "    hasil= bilangan_1 / bilangan_2\n",
    "    print(f'Hasil operasi dari {bilangan_1} / {bilangan_2} = {hasil}')\n",
    "else:\n",
    "    print('Tidak valid')"
   ]
  },
  {
   "cell_type": "code",
   "execution_count": null,
   "id": "b7e8fb98",
   "metadata": {},
   "outputs": [],
   "source": []
  }
 ],
 "metadata": {
  "kernelspec": {
   "display_name": "Python 3 (ipykernel)",
   "language": "python",
   "name": "python3"
  },
  "language_info": {
   "codemirror_mode": {
    "name": "ipython",
    "version": 3
   },
   "file_extension": ".py",
   "mimetype": "text/x-python",
   "name": "python",
   "nbconvert_exporter": "python",
   "pygments_lexer": "ipython3",
   "version": "3.9.7"
  }
 },
 "nbformat": 4,
 "nbformat_minor": 5
}
